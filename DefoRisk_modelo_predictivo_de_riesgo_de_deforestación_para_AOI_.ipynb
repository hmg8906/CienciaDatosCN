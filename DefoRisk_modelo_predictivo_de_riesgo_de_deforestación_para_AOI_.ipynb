{
  "nbformat": 4,
  "nbformat_minor": 0,
  "metadata": {
    "colab": {
      "provenance": [],
      "authorship_tag": "ABX9TyMHeZ+6bmTm4N8jsuCMGfaE",
      "include_colab_link": true
    },
    "kernelspec": {
      "name": "python3",
      "display_name": "Python 3"
    },
    "language_info": {
      "name": "python"
    }
  },
  "cells": [
    {
      "cell_type": "markdown",
      "metadata": {
        "id": "view-in-github",
        "colab_type": "text"
      },
      "source": [
        "<a href=\"https://colab.research.google.com/github/hmg8906/CienciaDatosCN/blob/main/DefoRisk_modelo_predictivo_de_riesgo_de_deforestaci%C3%B3n_para_AOI_.ipynb\" target=\"_parent\"><img src=\"https://colab.research.google.com/assets/colab-badge.svg\" alt=\"Open In Colab\"/></a>"
      ]
    },
    {
      "cell_type": "code",
      "source": [
        "#inicializar y autenticar GEE\n",
        "import ee\n",
        "ee.Authenticate()\n",
        "ee.Initialize(project=\"hmgarcia56ee1\")"
      ],
      "metadata": {
        "colab": {
          "base_uri": "https://localhost:8080/",
          "height": 17
        },
        "id": "otu3YI990jxt",
        "outputId": "3bf83832-1e22-47cb-d2ca-0b8888d75129"
      },
      "execution_count": 39,
      "outputs": [
        {
          "output_type": "display_data",
          "data": {
            "text/plain": [
              "<IPython.core.display.HTML object>"
            ],
            "text/html": [
              "\n",
              "            <style>\n",
              "                .geemap-dark {\n",
              "                    --jp-widgets-color: white;\n",
              "                    --jp-widgets-label-color: white;\n",
              "                    --jp-ui-font-color1: white;\n",
              "                    --jp-layout-color2: #454545;\n",
              "                    background-color: #383838;\n",
              "                }\n",
              "\n",
              "                .geemap-dark .jupyter-button {\n",
              "                    --jp-layout-color3: #383838;\n",
              "                }\n",
              "\n",
              "                .geemap-colab {\n",
              "                    background-color: var(--colab-primary-surface-color, white);\n",
              "                }\n",
              "\n",
              "                .geemap-colab .jupyter-button {\n",
              "                    --jp-layout-color3: var(--colab-primary-surface-color, white);\n",
              "                }\n",
              "            </style>\n",
              "            "
            ]
          },
          "metadata": {}
        }
      ]
    },
    {
      "cell_type": "code",
      "source": [
        "import ee\n",
        "import geemap\n",
        "import numpy as np\n",
        "import pandas as pd\n",
        "from sklearn.metrics import r2_score\n",
        "\n",
        "def calculate_deforestation_risk(aoi, num_trees=100, num_samples=2000, export_resolution=20):\n",
        "    \"\"\"\n",
        "    Calcula el riesgo de deforestación usando Random Forest en Google Earth Engine.\n",
        "\n",
        "    Parámetros:\n",
        "    aoi: ee.FeatureCollection - Área de interés\n",
        "    num_trees: int - Número de árboles en el modelo Random Forest\n",
        "    num_samples: int - Número de puntos de muestreo aleatorios\n",
        "    export_resolution: int - Resolución en metros para la exportación\n",
        "\n",
        "    Retorna:\n",
        "    geemap.Map - Mapa interactivo con las capas de riesgo de deforestación\n",
        "    \"\"\"\n",
        "    try:\n",
        "        # Cargar capas de entrada\n",
        "        forest_data = ee.Image(\"UMD/hansen/global_forest_change_2023_v1_11\")\n",
        "        forest_loss = forest_data.select(\"loss\")  # Pérdida de bosque (binaria: 0 o 1)\n",
        "        tree_cover = forest_data.select(\"treecover2000\")  # Cobertura arbórea en el año 2000\n",
        "        elevation = ee.Image(\"USGS/SRTMGL1_003\")  # Modelo de elevación digital\n",
        "        slope = ee.Terrain.slope(elevation)  # Pendiente derivada de la elevación\n",
        "        roads = ee.FeatureCollection(\"TIGER/2016/Roads\")  # Red de carreteras\n",
        "\n",
        "        # Convertir carreteras a ráster y calcular distancia a carreteras\n",
        "        roads = roads.map(lambda f: f.set(\"count\", 1))  # Asegurar propiedad numérica\n",
        "        roads_raster = roads.reduceToImage(properties=[\"count\"], reducer=ee.Reducer.sum()).gt(0).rename(\"road_presence\")\n",
        "        road_distance = roads_raster.fastDistanceTransform(30).rename(\"road_distance\")  # Distancia a carreteras\n",
        "\n",
        "        # Cargar variables edáficas (seleccionar solo la banda de interés)\n",
        "        soil_texture = ee.Image(\"OpenLandMap/SOL/SOL_TEXTURE-CLASS_USDA-TT_M/v02\").select(\"b0\").rename(\"soil_texture\")\n",
        "        soil_carbon = ee.Image(\"OpenLandMap/SOL/SOL_ORGANIC-CARBON_USDA-6A1C_M/v02\").select(\"b0\").rename(\"soil_carbon\")\n",
        "\n",
        "        # Preparar dataset de entrenamiento (sin densidad de población)\n",
        "        training_bands = [tree_cover, elevation, slope, road_distance, soil_texture, soil_carbon]\n",
        "        training_stack = ee.Image.cat(training_bands).float()  # Convertir a tipo flotante\n",
        "\n",
        "        # Generar puntos de muestreo aleatorios\n",
        "        loss_mask = forest_loss.gt(0)  # Máscara de píxeles con pérdida de bosque\n",
        "        points = loss_mask.addBands(training_stack).sample(\n",
        "            region=aoi,\n",
        "            scale=30,\n",
        "            numPixels=num_samples * 5,  # Muestrear más puntos para asegurar suficientes datos\n",
        "            seed=42,\n",
        "            geometries=True\n",
        "        ).filter(ee.Filter.notNull(training_stack.bandNames()))  # Filtrar puntos nulos\n",
        "\n",
        "        # Validar si hay suficientes datos\n",
        "        count = points.size().getInfo()\n",
        "        print(f\"Número de puntos de muestreo generados: {count}\")\n",
        "        if count == 0:\n",
        "            raise ValueError(\"No se encontraron suficientes datos de entrenamiento.\")\n",
        "\n",
        "        # Dividir en conjuntos de entrenamiento y prueba\n",
        "        training_fc = points.randomColumn()\n",
        "        training_set = training_fc.filter(ee.Filter.lt('random', 0.8))\n",
        "        testing_set = training_fc.filter(ee.Filter.gte('random', 0.8))\n",
        "\n",
        "        # Entrenar modelo Random Forest en GEE\n",
        "        classifier = ee.Classifier.smileRandomForest(num_trees).train(\n",
        "            features=training_set,\n",
        "            classProperty='loss',\n",
        "            inputProperties=training_stack.bandNames()\n",
        "        )\n",
        "\n",
        "        # Aplicar el modelo a la imagen completa\n",
        "        raw_risk_map = training_stack.classify(classifier)\n",
        "\n",
        "        # Evaluar el modelo con el conjunto de prueba\n",
        "        testing_classified = testing_set.classify(classifier)\n",
        "        predictions = testing_classified.aggregate_array(\"classification\").getInfo()\n",
        "        true_values = testing_classified.aggregate_array(\"loss\").getInfo()\n",
        "\n",
        "        if len(predictions) > 0 and len(true_values) > 0:\n",
        "            r2 = r2_score(true_values, predictions)\n",
        "            print(f\"Coeficiente de determinación R²: {r2:.4f}\")\n",
        "        else:\n",
        "            print(\"Advertencia: No se pudieron calcular métricas de evaluación.\")\n",
        "\n",
        "        # Normalizar el riesgo entre 0 y 1\n",
        "        stats = raw_risk_map.reduceRegion(\n",
        "            reducer=ee.Reducer.minMax(),\n",
        "            geometry=aoi.geometry(),\n",
        "            scale=1000,  # Aumentar la escala para reducir el número de píxeles\n",
        "            maxPixels=1e13  # Aumentar el límite de píxeles\n",
        "        ).getInfo()\n",
        "        min_val = stats.get(\"classification_min\", 0)\n",
        "        max_val = stats.get(\"classification_max\", 1)\n",
        "        risk_map = raw_risk_map.subtract(min_val).divide(max_val - min_val)\n",
        "\n",
        "        # Exportar resultado\n",
        "        export_task = ee.batch.Export.image.toDrive(\n",
        "            image=risk_map,\n",
        "            description='deforestation_risk_map',\n",
        "            folder='GEE_Exports',\n",
        "            fileNamePrefix='deforestation_risk',\n",
        "            scale=export_resolution,\n",
        "            region=aoi.geometry().bounds(),\n",
        "            fileFormat='GeoTIFF'\n",
        "        )\n",
        "        export_task.start()\n",
        "        print(\"Exportación iniciada correctamente.\")\n",
        "\n",
        "        # Visualización en mapa\n",
        "        Map = geemap.Map()\n",
        "        Map.centerObject(aoi, 6)\n",
        "        Map.addLayer(forest_loss, {'min': 0, 'max': 1, 'palette': ['black', 'red']}, \"Forest Loss\")\n",
        "        Map.addLayer(points, {}, \"Sampled Points\")\n",
        "        Map.addLayer(risk_map, {'min': 0, 'max': 1, 'palette': ['green', 'yellow', 'red']}, \"Riesgo de Deforestación\")\n",
        "        return Map\n",
        "\n",
        "    except Exception as e:\n",
        "        print(f\"Error: {e}\")\n",
        "        return None\n",
        "\n",
        "# Ejemplo de uso:\n",
        "aoi = ee.FeatureCollection(\"FAO/GAUL/2015/level1\").filter(ee.Filter.eq(\"ADM1_NAME\", \"Amazonas\"))\n",
        "Map = calculate_deforestation_risk(aoi, export_resolution=20)\n",
        "if Map:\n",
        "    Map"
      ],
      "metadata": {
        "colab": {
          "base_uri": "https://localhost:8080/",
          "height": 69
        },
        "id": "ghd6x5l5FJiX",
        "outputId": "a0a6f444-a574-449d-9c0e-10c8bb565c1f"
      },
      "execution_count": 48,
      "outputs": [
        {
          "output_type": "display_data",
          "data": {
            "text/plain": [
              "<IPython.core.display.HTML object>"
            ],
            "text/html": [
              "\n",
              "            <style>\n",
              "                .geemap-dark {\n",
              "                    --jp-widgets-color: white;\n",
              "                    --jp-widgets-label-color: white;\n",
              "                    --jp-ui-font-color1: white;\n",
              "                    --jp-layout-color2: #454545;\n",
              "                    background-color: #383838;\n",
              "                }\n",
              "\n",
              "                .geemap-dark .jupyter-button {\n",
              "                    --jp-layout-color3: #383838;\n",
              "                }\n",
              "\n",
              "                .geemap-colab {\n",
              "                    background-color: var(--colab-primary-surface-color, white);\n",
              "                }\n",
              "\n",
              "                .geemap-colab .jupyter-button {\n",
              "                    --jp-layout-color3: var(--colab-primary-surface-color, white);\n",
              "                }\n",
              "            </style>\n",
              "            "
            ]
          },
          "metadata": {}
        },
        {
          "output_type": "stream",
          "name": "stdout",
          "text": [
            "Número de puntos de muestreo generados: 9775\n",
            "Coeficiente de determinación R²: -0.0243\n",
            "Exportación iniciada correctamente.\n"
          ]
        }
      ]
    }
  ]
}