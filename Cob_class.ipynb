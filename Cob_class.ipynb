{
  "nbformat": 4,
  "nbformat_minor": 0,
  "metadata": {
    "colab": {
      "provenance": [],
      "mount_file_id": "10uEG9fpDBM4J1kvFw-B4Y0qt-YYhLljW",
      "authorship_tag": "ABX9TyOa1a6wL/+46rEX3zFrTLLk",
      "include_colab_link": true
    },
    "kernelspec": {
      "name": "python3",
      "display_name": "Python 3"
    },
    "language_info": {
      "name": "python"
    }
  },
  "cells": [
    {
      "cell_type": "markdown",
      "metadata": {
        "id": "view-in-github",
        "colab_type": "text"
      },
      "source": [
        "<a href=\"https://colab.research.google.com/github/hmg8906/CienciaDatosCN/blob/main/Cob_class.ipynb\" target=\"_parent\"><img src=\"https://colab.research.google.com/assets/colab-badge.svg\" alt=\"Open In Colab\"/></a>"
      ]
    },
    {
      "cell_type": "code",
      "execution_count": null,
      "metadata": {
        "id": "DOKmgl7pZ3HS"
      },
      "outputs": [],
      "source": [
        "#Clasificación de coberturas a partir de imágenes satelitales usando Google Earth Engine (GEE) y capa de coberturas 2020 IDEAM\n",
        "import ee\n",
        "import geemap\n",
        "\n",
        "# Inicializar Google Earth Engine\n",
        "ee.Initialize()\n",
        "\n",
        "# Cargar la zona de estudio desde el archivo shapefile\n",
        "roi = geemap.shp_to_ee('ruta/a/tu/archivo/roi.shp')\n",
        "\n",
        "# Cargar la imagen satelital del año 2020 (por ejemplo, Landsat 8)\n",
        "imagen_2020 = ee.ImageCollection('LANDSAT/LC08/C01/T1_SR') \\\n",
        "    .filterBounds(roi) \\\n",
        "    .filterDate('2020-01-01', '2020-12-31') \\\n",
        "    .median() \\\n",
        "    .clip(roi)\n",
        "\n",
        "# Cargar la capa de coberturas de la tierra del año 2020 (CORINE o similar)\n",
        "cobertura_2020 = ee.Image('COPERNICUS/CORINE/V20/100m/2020') \\\n",
        "    .clip(roi)\n",
        "\n",
        "# Generar puntos aleatorios usando la capa de coberturas 2020 como referencia\n",
        "puntos_aleatorios = cobertura_2020.stratifiedSample(\n",
        "    numPoints=5000,  # Número de puntos a generar\n",
        "    classBand=cobertura_2020.select('landcover'),  # Ajusta según las propiedades de la cobertura\n",
        "    region=roi,\n",
        "    scale=30,  # Resolución espacial\n",
        "    seed=42,\n",
        "    geometries=True  # Incluir geometrías para uso posterior\n",
        ")\n",
        "\n",
        "# Extraer las bandas de la imagen 2020 para usarlas como variables predictoras\n",
        "bandas = ['B2', 'B3', 'B4', 'B5', 'B6', 'B7']\n",
        "entrenamiento = imagen_2020.select(bandas).sampleRegions(\n",
        "    collection=puntos_aleatorios,\n",
        "    properties=['landcover'],  # Ajusta según las propiedades de la cobertura\n",
        "    scale=30\n",
        ")\n",
        "\n",
        "# Entrenar un clasificador supervisado (por ejemplo, Random Forest)\n",
        "clasificador = ee.Classifier.smileRandomForest(100).train(\n",
        "    features=entrenamiento,\n",
        "    classProperty='landcover',\n",
        "    inputProperties=bandas\n",
        ")\n",
        "\n",
        "# Cargar la imagen satelital del año 2024\n",
        "imagen_2024 = ee.ImageCollection('LANDSAT/LC08/C01/T1_SR') \\\n",
        "    .filterBounds(roi) \\\n",
        "    .filterDate('2024-01-01', '2024-12-31') \\\n",
        "    .median() \\\n",
        "    .clip(roi)\n",
        "\n",
        "# Aplicar el modelo de clasificación entrenado a la imagen de 2024\n",
        "clasificacion_2024 = imagen_2024.select(bandas).classify(clasificador)\n",
        "\n",
        "# Visualizar el resultado\n",
        "Map = geemap.Map()\n",
        "Map.addLayer(clasificacion_2024.randomVisualizer(), {}, 'Clasificación 2024')\n",
        "Map.addLayer(roi, {}, 'ROI')\n",
        "Map.centerObject(roi, 10)\n",
        "Map.show()\n",
        "\n",
        "# Exportar la clasificación\n",
        "exportar = ee.batch.Export.image.toDrive(\n",
        "    image=clasificacion_2024,\n",
        "    description='clasificacion_supervisada_2024',\n",
        "    scale=30,\n",
        "    region=roi.geometry().bounds().getInfo(),\n",
        "    maxPixels=1e13\n",
        ")\n",
        "exportar.start()"
      ]
    }
  ]
}