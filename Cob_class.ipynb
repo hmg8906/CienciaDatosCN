{
  "nbformat": 4,
  "nbformat_minor": 0,
  "metadata": {
    "colab": {
      "provenance": [],
      "mount_file_id": "10uEG9fpDBM4J1kvFw-B4Y0qt-YYhLljW",
      "authorship_tag": "ABX9TyNptkJiLaeeVL6wGFmW/p4o",
      "include_colab_link": true
    },
    "kernelspec": {
      "name": "python3",
      "display_name": "Python 3"
    },
    "language_info": {
      "name": "python"
    }
  },
  "cells": [
    {
      "cell_type": "markdown",
      "metadata": {
        "id": "view-in-github",
        "colab_type": "text"
      },
      "source": [
        "<a href=\"https://colab.research.google.com/github/hmg8906/CienciaDatosCN/blob/main/Cob_class.ipynb\" target=\"_parent\"><img src=\"https://colab.research.google.com/assets/colab-badge.svg\" alt=\"Open In Colab\"/></a>"
      ]
    },
    {
      "cell_type": "code",
      "source": [
        "#inicializar y autenticar GEE\n",
        "import ee\n",
        "ee.Authenticate()\n",
        "ee.Initialize(project=\"hmgarcia56ee1\")"
      ],
      "metadata": {
        "colab": {
          "base_uri": "https://localhost:8080/",
          "height": 17
        },
        "id": "o8nJHpJ_hCVC",
        "outputId": "7a16fa58-a212-449d-e444-5bb903355efd"
      },
      "execution_count": 13,
      "outputs": [
        {
          "output_type": "display_data",
          "data": {
            "text/plain": [
              "<IPython.core.display.HTML object>"
            ],
            "text/html": [
              "\n",
              "            <style>\n",
              "                .geemap-dark {\n",
              "                    --jp-widgets-color: white;\n",
              "                    --jp-widgets-label-color: white;\n",
              "                    --jp-ui-font-color1: white;\n",
              "                    --jp-layout-color2: #454545;\n",
              "                    background-color: #383838;\n",
              "                }\n",
              "\n",
              "                .geemap-dark .jupyter-button {\n",
              "                    --jp-layout-color3: #383838;\n",
              "                }\n",
              "\n",
              "                .geemap-colab {\n",
              "                    background-color: var(--colab-primary-surface-color, white);\n",
              "                }\n",
              "\n",
              "                .geemap-colab .jupyter-button {\n",
              "                    --jp-layout-color3: var(--colab-primary-surface-color, white);\n",
              "                }\n",
              "            </style>\n",
              "            "
            ]
          },
          "metadata": {}
        }
      ]
    },
    {
      "cell_type": "code",
      "source": [],
      "metadata": {
        "id": "LBlKPQXc_osw"
      },
      "execution_count": null,
      "outputs": []
    },
    {
      "cell_type": "code",
      "source": [
        "import geemap\n",
        "import pandas as pd\n",
        "from sklearn.ensemble import RandomForestClassifier\n",
        "from sklearn.model_selection import train_test_split\n",
        "from sklearn.metrics import confusion_matrix, accuracy_score, classification_report\n",
        "import joblib\n",
        "\n",
        "\n",
        "# 1. Cargar ROI (Huila)\n",
        "departamentos = ee.FeatureCollection(\"FAO/GAUL/2015/level1\")\n",
        "roi = departamentos.filter(\n",
        "    ee.Filter.And(\n",
        "        ee.Filter.eq('ADM0_NAME', 'Colombia'),\n",
        "        ee.Filter.eq('ADM1_NAME', 'Huila')\n",
        "    )\n",
        ").first().geometry()\n",
        "\n",
        "# 2. Función para cargar Landsat 8 SR con índices y topografía\n",
        "def cargar_landsat(fecha_inicio, fecha_fin):\n",
        "    srtm = ee.Image(\"USGS/SRTMGL1_003\")\n",
        "    elev = srtm.select('elevation')\n",
        "    slope = ee.Terrain.slope(elev)\n",
        "\n",
        "    def procesar(img):\n",
        "        img = img.select(\n",
        "            ['SR_B2', 'SR_B3', 'SR_B4', 'SR_B5', 'SR_B6', 'SR_B7'],\n",
        "            ['Blue', 'Green', 'Red', 'NIR', 'SWIR1', 'SWIR2']\n",
        "        ).multiply(0.0000275).add(-0.2)\n",
        "\n",
        "        ndvi = img.normalizedDifference(['NIR', 'Red']).rename('NDVI')\n",
        "        ndwi = img.normalizedDifference(['Green', 'NIR']).rename('NDWI')\n",
        "        ndsi = img.normalizedDifference(['Green', 'SWIR1']).rename('NDSI')\n",
        "\n",
        "        return img.addBands([ndvi, ndwi, ndsi, elev.rename('Elevation'), slope.rename('Slope')]).clip(roi)\n",
        "\n",
        "    return (ee.ImageCollection('LANDSAT/LC08/C02/T1_L2')\n",
        "            .filterBounds(roi)\n",
        "            .filterDate(fecha_inicio, fecha_fin)\n",
        "            .filter(ee.Filter.lt('CLOUD_COVER', 20))\n",
        "            .map(procesar)\n",
        "            .median())\n",
        "\n",
        "# 3. Cargar imágenes\n",
        "img2020 = cargar_landsat('2020-01-01', '2020-12-31')\n",
        "img2024 = cargar_landsat('2024-01-01', '2024-03-31')\n",
        "\n",
        "# 4. Cargar WorldCover 2020\n",
        "worldcover = ee.ImageCollection('ESA/WorldCover/v100').first().clip(roi)\n",
        "\n",
        "# 5. Muestreo estratificado balanceado\n",
        "bandas = ['Blue', 'Green', 'Red', 'NIR', 'SWIR1', 'SWIR2', 'NDVI', 'NDWI', 'NDSI', 'Elevation', 'Slope']\n",
        "samples = worldcover.addBands(img2020).stratifiedSample(\n",
        "    numPoints=700,  # Puedes ajustar esto\n",
        "    classBand='Map',\n",
        "    region=roi,\n",
        "    scale=30,\n",
        "    seed=42,\n",
        "    geometries=True\n",
        ")\n",
        "\n",
        "# 6. Convertir a DataFrame usando getInfo()\n",
        "samples_info = samples.getInfo()\n",
        "features = samples_info['features']\n",
        "\n",
        "data = []\n",
        "for feature in features:\n",
        "    properties = feature['properties']\n",
        "    data.append(properties)\n",
        "\n",
        "df = pd.DataFrame(data)\n",
        "\n",
        "X = df[bandas]\n",
        "y = df['Map']\n",
        "\n",
        "# 7. Entrenar modelo\n",
        "X_train, X_test, y_train, y_test = train_test_split(X, y, stratify=y, test_size=0.3, random_state=42)\n",
        "\n",
        "clf = RandomForestClassifier(\n",
        "    n_estimators=100,\n",
        "    max_depth=10,\n",
        "    class_weight='balanced',\n",
        "    random_state=42,\n",
        "    n_jobs=-1\n",
        ")\n",
        "clf.fit(X_train, y_train)\n",
        "\n",
        "# 8. Evaluar modelo\n",
        "y_pred = clf.predict(X_test)\n",
        "print(\"Matriz de Confusión:\\n\", confusion_matrix(y_test, y_pred))\n",
        "print(\"Precisión:\", accuracy_score(y_test, y_pred))\n",
        "print(\"Reporte de clasificación:\\n\", classification_report(y_test, y_pred))\n",
        "\n",
        "# 9. Guardar modelo localmente (opcional)\n",
        "joblib.dump(clf, 'modelo_rf_huila.pkl')\n",
        "\n",
        "# 10. Clasificación en GEE\n",
        "trained_classifier = ee.Classifier.smileRandomForest(\n",
        "    numberOfTrees=100,\n",
        "    variablesPerSplit=3,\n",
        "    minLeafPopulation=5,\n",
        "    seed=42\n",
        ").train(\n",
        "    features=samples,\n",
        "    classProperty='Map',\n",
        "    inputProperties=bandas\n",
        ")\n",
        "\n",
        "clasificado_2020 = img2020.classify(trained_classifier).rename('clasificacion_2020')\n",
        "clasificado_2024 = img2024.classify(trained_classifier).rename('clasificacion_2024')\n",
        "\n",
        "# 11. Exportar clasificado 2024 a Google Drive\n",
        "geemap.ee_export_image_to_drive(\n",
        "    image=clasificado_2024,\n",
        "    description='Huila_2024_Classified',\n",
        "    folder='GEE_Exports',\n",
        "    region=roi,\n",
        "    scale=30,\n",
        "    fileFormat='GeoTIFF',\n",
        "    maxPixels=1e13\n",
        ")\n",
        "\n",
        "print(\"Exportación iniciada: Huila_2024_Classified → Google Drive / GEE_Exports\")\n"
      ],
      "metadata": {
        "colab": {
          "base_uri": "https://localhost:8080/",
          "height": 486
        },
        "id": "AP7jT2P59Yky",
        "outputId": "003977c5-39bc-4aee-d562-3e098b56187e"
      },
      "execution_count": null,
      "outputs": [
        {
          "output_type": "display_data",
          "data": {
            "text/plain": [
              "<IPython.core.display.HTML object>"
            ],
            "text/html": [
              "\n",
              "            <style>\n",
              "                .geemap-dark {\n",
              "                    --jp-widgets-color: white;\n",
              "                    --jp-widgets-label-color: white;\n",
              "                    --jp-ui-font-color1: white;\n",
              "                    --jp-layout-color2: #454545;\n",
              "                    background-color: #383838;\n",
              "                }\n",
              "\n",
              "                .geemap-dark .jupyter-button {\n",
              "                    --jp-layout-color3: #383838;\n",
              "                }\n",
              "\n",
              "                .geemap-colab {\n",
              "                    background-color: var(--colab-primary-surface-color, white);\n",
              "                }\n",
              "\n",
              "                .geemap-colab .jupyter-button {\n",
              "                    --jp-layout-color3: var(--colab-primary-surface-color, white);\n",
              "                }\n",
              "            </style>\n",
              "            "
            ]
          },
          "metadata": {}
        },
        {
          "output_type": "stream",
          "name": "stdout",
          "text": [
            "Matriz de Confusión:\n",
            " [[149  19  29   3   2   8   0   0]\n",
            " [  9 154  29   5   4   9   0   0]\n",
            " [ 15  58  86  19   7  24   1   0]\n",
            " [  2   7   6 166  18   9   0   2]\n",
            " [ 10   7   7  29 145  12   0   0]\n",
            " [ 18   9  21  19  26 106  11   0]\n",
            " [  0   0   0   0   2  12 197   0]\n",
            " [  0   1   0   1   0   2   1   6]]\n",
            "Precisión: 0.6808367071524967\n",
            "Reporte de clasificación:\n",
            "               precision    recall  f1-score   support\n",
            "\n",
            "          10       0.73      0.71      0.72       210\n",
            "          20       0.60      0.73      0.66       210\n",
            "          30       0.48      0.41      0.44       210\n",
            "          40       0.69      0.79      0.73       210\n",
            "          50       0.71      0.69      0.70       210\n",
            "          60       0.58      0.50      0.54       210\n",
            "          80       0.94      0.93      0.94       211\n",
            "          90       0.75      0.55      0.63        11\n",
            "\n",
            "    accuracy                           0.68      1482\n",
            "   macro avg       0.69      0.66      0.67      1482\n",
            "weighted avg       0.68      0.68      0.68      1482\n",
            "\n",
            "Exportación iniciada: Huila_2024_Classified → Google Drive / GEE_Exports\n"
          ]
        }
      ]
    }
  ]
}